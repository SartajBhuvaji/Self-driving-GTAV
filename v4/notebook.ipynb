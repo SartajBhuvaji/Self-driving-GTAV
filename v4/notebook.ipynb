{
 "cells": [
  {
   "cell_type": "code",
   "execution_count": 1,
   "metadata": {},
   "outputs": [
    {
     "name": "stdout",
     "output_type": "stream",
     "text": [
      "1.21.6\n",
      "                                                   0  \\\n",
      "0  [[[75, 74, 72], [225, 220, 216], [225, 220, 21...   \n",
      "1  [[[75, 73, 72], [225, 220, 216], [225, 220, 21...   \n",
      "2  [[[75, 73, 72], [225, 220, 216], [225, 220, 21...   \n",
      "3  [[[75, 73, 72], [224, 220, 215], [224, 220, 21...   \n",
      "4  [[[75, 73, 72], [224, 220, 215], [224, 220, 21...   \n",
      "\n",
      "                             1  \n",
      "0  [1, 0, 0, 0, 0, 0, 0, 0, 0]  \n",
      "1  [1, 0, 0, 0, 0, 0, 0, 0, 0]  \n",
      "2  [1, 0, 0, 0, 0, 0, 0, 0, 0]  \n",
      "3  [1, 0, 0, 0, 0, 0, 0, 0, 0]  \n",
      "4  [1, 0, 0, 0, 0, 0, 0, 0, 0]  \n",
      "Counter({'[1, 0, 0, 0, 0, 0, 0, 0, 0]': 3627, '[0, 0, 0, 0, 0, 1, 0, 0, 0]': 416, '[0, 0, 0, 0, 1, 0, 0, 0, 0]': 364, '[0, 0, 0, 0, 0, 0, 0, 0, 1]': 248, '[0, 0, 0, 1, 0, 0, 0, 0, 0]': 106, '[0, 0, 1, 0, 0, 0, 0, 0, 0]': 104, '[0, 1, 0, 0, 0, 0, 0, 0, 0]': 50, '[0, 0, 0, 0, 0, 0, 0, 1, 0]': 47, '[0, 0, 0, 0, 0, 0, 1, 0, 0]': 35, 'None': 3})\n",
      "no matches\n",
      "no matches\n",
      "no matches\n",
      "3627 50 104 106 364 416 35 47 248\n"
     ]
    }
   ],
   "source": [
    "# balance_data.py\n",
    "\n",
    "import numpy as np\n",
    "print(np.__version__)\n",
    "import pandas as pd\n",
    "from collections import Counter\n",
    "from random import shuffle\n",
    "\n",
    "train_data = np.load(r'C:\\Local Disk D\\gtav\\self-driving_GTAV\\mini\\training_data-mini.npy', allow_pickle=True)  \n",
    "\n",
    "df = pd.DataFrame(train_data)\n",
    "print(df.head())\n",
    "print(Counter(df[1].apply(str)))\n",
    "\n",
    "w = []\n",
    "s =[]\n",
    "a = []\n",
    "d = []\n",
    "wa = []\n",
    "wd = []\n",
    "sa = []\n",
    "sd = []\n",
    "nk = []\n",
    "\n",
    "\n",
    "for data in train_data:\n",
    "    img = data[0]\n",
    "    choice = data[1]\n",
    "\n",
    "    if choice == [1, 0, 0, 0, 0, 0, 0, 0, 0]:\n",
    "        w.append([img, choice])\n",
    "    elif choice == [0, 1, 0, 0, 0, 0, 0, 0, 0]:\n",
    "        s.append([img, choice])\n",
    "    elif choice == [0, 0, 1, 0, 0, 0, 0, 0, 0]:\n",
    "        a.append([img, choice])\n",
    "    elif choice == [0, 0, 0, 1, 0, 0, 0, 0, 0]:\n",
    "        d.append([img, choice])\n",
    "    elif choice == [0, 0, 0, 0, 1, 0, 0, 0, 0]:\n",
    "        wa.append([img, choice])\n",
    "    elif choice == [0, 0, 0, 0, 0, 1, 0, 0, 0]:\n",
    "        wd.append([img, choice])\n",
    "    elif choice == [0, 0, 0, 0, 0, 0, 1, 0, 0]:\n",
    "        sa.append([img, choice])\n",
    "    elif choice == [0, 0, 0, 0, 0, 0, 0, 1, 0]:\n",
    "        sd.append([img, choice])\n",
    "    elif choice == [0, 0, 0, 0, 0, 0, 0, 0, 1]:\n",
    "        nk.append([img, choice])\n",
    "    elif choice == [0, 0, 0, 0, 0, 0, 0, 0, 0]:\n",
    "        pass    \n",
    "    else:\n",
    "        print('no matches')    \n",
    "\n",
    "print(len(w), len(s), len(a), len(d), len(wa), len(wd), len(sa), len(sd), len(nk))\n",
    "\n"
   ]
  },
  {
   "cell_type": "code",
   "execution_count": 2,
   "metadata": {},
   "outputs": [
    {
     "name": "stderr",
     "output_type": "stream",
     "text": [
      "C:\\Users\\sbhuv\\AppData\\Roaming\\Python\\Python37\\site-packages\\ipykernel_launcher.py:2: VisibleDeprecationWarning: Creating an ndarray from ragged nested sequences (which is a list-or-tuple of lists-or-tuples-or ndarrays with different lengths or shapes) is deprecated. If you meant to do this, you must specify 'dtype=object' when creating the ndarray.\n",
      "  \n",
      "C:\\Users\\sbhuv\\AppData\\Roaming\\Python\\Python37\\site-packages\\ipykernel_launcher.py:3: VisibleDeprecationWarning: Creating an ndarray from ragged nested sequences (which is a list-or-tuple of lists-or-tuples-or ndarrays with different lengths or shapes) is deprecated. If you meant to do this, you must specify 'dtype=object' when creating the ndarray.\n",
      "  This is separate from the ipykernel package so we can avoid doing imports until\n",
      "C:\\Users\\sbhuv\\AppData\\Roaming\\Python\\Python37\\site-packages\\ipykernel_launcher.py:4: VisibleDeprecationWarning: Creating an ndarray from ragged nested sequences (which is a list-or-tuple of lists-or-tuples-or ndarrays with different lengths or shapes) is deprecated. If you meant to do this, you must specify 'dtype=object' when creating the ndarray.\n",
      "  after removing the cwd from sys.path.\n",
      "C:\\Users\\sbhuv\\AppData\\Roaming\\Python\\Python37\\site-packages\\ipykernel_launcher.py:5: VisibleDeprecationWarning: Creating an ndarray from ragged nested sequences (which is a list-or-tuple of lists-or-tuples-or ndarrays with different lengths or shapes) is deprecated. If you meant to do this, you must specify 'dtype=object' when creating the ndarray.\n",
      "  \"\"\"\n",
      "C:\\Users\\sbhuv\\AppData\\Roaming\\Python\\Python37\\site-packages\\ipykernel_launcher.py:6: VisibleDeprecationWarning: Creating an ndarray from ragged nested sequences (which is a list-or-tuple of lists-or-tuples-or ndarrays with different lengths or shapes) is deprecated. If you meant to do this, you must specify 'dtype=object' when creating the ndarray.\n",
      "  \n",
      "C:\\Users\\sbhuv\\AppData\\Roaming\\Python\\Python37\\site-packages\\ipykernel_launcher.py:7: VisibleDeprecationWarning: Creating an ndarray from ragged nested sequences (which is a list-or-tuple of lists-or-tuples-or ndarrays with different lengths or shapes) is deprecated. If you meant to do this, you must specify 'dtype=object' when creating the ndarray.\n",
      "  import sys\n",
      "C:\\Users\\sbhuv\\AppData\\Roaming\\Python\\Python37\\site-packages\\ipykernel_launcher.py:8: VisibleDeprecationWarning: Creating an ndarray from ragged nested sequences (which is a list-or-tuple of lists-or-tuples-or ndarrays with different lengths or shapes) is deprecated. If you meant to do this, you must specify 'dtype=object' when creating the ndarray.\n",
      "  \n",
      "C:\\Users\\sbhuv\\AppData\\Roaming\\Python\\Python37\\site-packages\\ipykernel_launcher.py:9: VisibleDeprecationWarning: Creating an ndarray from ragged nested sequences (which is a list-or-tuple of lists-or-tuples-or ndarrays with different lengths or shapes) is deprecated. If you meant to do this, you must specify 'dtype=object' when creating the ndarray.\n",
      "  if __name__ == \"__main__\":\n",
      "C:\\Users\\sbhuv\\AppData\\Roaming\\Python\\Python37\\site-packages\\ipykernel_launcher.py:10: VisibleDeprecationWarning: Creating an ndarray from ragged nested sequences (which is a list-or-tuple of lists-or-tuples-or ndarrays with different lengths or shapes) is deprecated. If you meant to do this, you must specify 'dtype=object' when creating the ndarray.\n",
      "  # Remove the CWD from sys.path while we load stuff.\n"
     ]
    }
   ],
   "source": [
    "# convert to numpy array\n",
    "w = np.array(w)\n",
    "s = np.array(s)\n",
    "a = np.array(a)\n",
    "d = np.array(d)\n",
    "wa = np.array(wa)\n",
    "wd = np.array(wd)\n",
    "sa = np.array(sa)\n",
    "sd = np.array(sd)\n",
    "nk = np.array(nk)\n"
   ]
  },
  {
   "cell_type": "code",
   "execution_count": 4,
   "metadata": {},
   "outputs": [
    {
     "name": "stdout",
     "output_type": "stream",
     "text": [
      "(3627, 2) (50, 2) (104, 2) (106, 2) (364, 2) (416, 2) (35, 2) (47, 2) (248, 2)\n"
     ]
    }
   ],
   "source": [
    "print(w.shape, s.shape, a.shape, d.shape, wa.shape, wd.shape, sa.shape, sd.shape, nk.shape)"
   ]
  },
  {
   "cell_type": "code",
   "execution_count": 7,
   "metadata": {},
   "outputs": [
    {
     "name": "stdout",
     "output_type": "stream",
     "text": [
      "(270, 480, 3)\n"
     ]
    }
   ],
   "source": [
    "print(w[0][0].shape)"
   ]
  },
  {
   "cell_type": "code",
   "execution_count": null,
   "metadata": {},
   "outputs": [],
   "source": [
    "train_data = np.concatenate((w, s, a, d, wa, wd, sa, sd, nk), axis=0)"
   ]
  },
  {
   "cell_type": "code",
   "execution_count": null,
   "metadata": {},
   "outputs": [],
   "source": [
    "train = train_data[:-100]\n",
    "test = train_data[-100:]\n",
    "\n",
    "X = np.array([i[0] for i in train]).reshape(-1,WIDTH,HEIGHT,1)\n",
    "Y = [i[1] for i in train]"
   ]
  },
  {
   "cell_type": "code",
   "execution_count": null,
   "metadata": {},
   "outputs": [],
   "source": []
  }
 ],
 "metadata": {
  "kernelspec": {
   "display_name": "Python 3",
   "language": "python",
   "name": "python3"
  },
  "language_info": {
   "codemirror_mode": {
    "name": "ipython",
    "version": 3
   },
   "file_extension": ".py",
   "mimetype": "text/x-python",
   "name": "python",
   "nbconvert_exporter": "python",
   "pygments_lexer": "ipython3",
   "version": "3.7.9"
  }
 },
 "nbformat": 4,
 "nbformat_minor": 2
}
