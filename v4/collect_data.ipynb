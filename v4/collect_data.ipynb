{
 "cells": [
  {
   "cell_type": "code",
   "execution_count": 1,
   "metadata": {},
   "outputs": [
    {
     "data": {
      "text/plain": [
       "''"
      ]
     },
     "execution_count": 1,
     "metadata": {},
     "output_type": "execute_result"
    }
   ],
   "source": [
    "# Collect Data\n",
    "'''\n",
    "Records screen from the game and saves it to a file\n",
    "- GTA V \n",
    "- Windowed mode\n",
    "- Resolution: 800 x 600\n",
    "- Keep window at top left corner of screen (0,0)\n",
    "'''"
   ]
  },
  {
   "cell_type": "code",
   "execution_count": 2,
   "metadata": {},
   "outputs": [
    {
     "name": "stdout",
     "output_type": "stream",
     "text": [
      "1.18.5\n"
     ]
    }
   ],
   "source": [
    "# python 3.7.9\n",
    "import numpy as np\n",
    "print(np.__version__) #1.18.5"
   ]
  },
  {
   "cell_type": "code",
   "execution_count": 4,
   "metadata": {},
   "outputs": [
    {
     "name": "stdout",
     "output_type": "stream",
     "text": [
      "File does not exist, starting fresh! 1\n",
      "4\n",
      "3\n",
      "2\n",
      "1\n",
      "STARTING!!!\n",
      "100\n",
      "200\n",
      "300\n",
      "400\n",
      "500\n",
      "600\n",
      "700\n",
      "800\n",
      "900\n",
      "1000\n",
      "SAVED\n",
      "100\n",
      "200\n",
      "300\n",
      "400\n",
      "500\n",
      "600\n",
      "700\n",
      "800\n",
      "900\n",
      "1000\n",
      "SAVED\n",
      "100\n",
      "200\n",
      "300\n",
      "400\n",
      "500\n",
      "600\n",
      "700\n",
      "Pausing!\n"
     ]
    }
   ],
   "source": [
    "import os\n",
    "import time\n",
    "import cv2\n",
    "import numpy as np\n",
    "from grabscreen import grab_screen\n",
    "from getkeys import key_check\n",
    "\n",
    "key_map = {\n",
    "    'W': [1, 0, 0, 0, 0, 0, 0, 0, 0],\n",
    "    'S': [0, 1, 0, 0, 0, 0, 0, 0, 0],\n",
    "    'A': [0, 0, 1, 0, 0, 0, 0, 0, 0],\n",
    "    'D': [0, 0, 0, 1, 0, 0, 0, 0, 0],\n",
    "    'WS': [0, 0, 0, 0, 1, 0, 0, 0, 0],\n",
    "    'WD': [0, 0, 0, 0, 0, 1, 0, 0, 0],\n",
    "    'SA': [0, 0, 0, 0, 0, 0, 1, 0, 0],\n",
    "    'SD': [0, 0, 0, 0, 0, 0, 0, 1, 0],\n",
    "    'NK': [0, 0, 0, 0, 0, 0, 0, 0, 1],\n",
    "    'default': [0, 0, 0, 0, 0, 0, 0, 0, 0],\n",
    "}\n",
    "# key map for the output\n",
    "\n",
    "starting_value = 1\n",
    "BATCH_SIZE = 1000 #~370Mb/1000 images\n",
    "mode = 'RGB' # 'RGB' or 'GRAY'\n",
    "\n",
    "while True:\n",
    "    file_name = 'training_data-{0}.npy'.format(starting_value)\n",
    "    if os.path.isfile(file_name):\n",
    "        print('File exists, moving along', starting_value)\n",
    "        starting_value += 1\n",
    "    else:\n",
    "        print('File does not exist, starting fresh!', starting_value)\n",
    "        break\n",
    "\n",
    "def keys_to_output(keys):\n",
    "    if ''.join(keys) in key_map:\n",
    "        return key_map[''.join(keys)]\n",
    "    return key_map['default']\n",
    "\n",
    "def main(file_name, starting_value, mode BATCH_SIZE):\n",
    "    training_data = []\n",
    "    for i in range(4, 0, -1):\n",
    "        print(i + 1)\n",
    "        time.sleep(1)\n",
    "    paused = False\n",
    "    print('STARTING!!!')\n",
    "    while True:\n",
    "        if not paused:\n",
    "            screen = grab_screen(region=(0, 40, 800, 640))\n",
    "            # region defines the area of the screen to capture\n",
    "\n",
    "            screen = cv2.resize(screen, (480, 270))\n",
    "            # resize the screen to 480x270\n",
    "\n",
    "            mode = cv2.COLOR_BGR2RGB if mode == 'RGB' else cv2.COLOR_BGR2GRAY\n",
    "            screen = cv2.cvtColor(screen, mode)\n",
    "            # convert the screen from BGR to color mode\n",
    "\n",
    "            keys = key_check()\n",
    "            # get the keys pressed\n",
    "\n",
    "            output = keys_to_output(keys)\n",
    "            training_data.append([screen, output])\n",
    "            # append the screen and the output to the training data\n",
    "\n",
    "            if len(training_data) % 100 == 0:\n",
    "                print(len(training_data))\n",
    "                if len(training_data) == BATCH_SIZE:\n",
    "                    np.save(file_name, np.array(training_data))\n",
    "                    print('SAVED')\n",
    "                    training_data = []\n",
    "                    starting_value += 1\n",
    "                    file_name = 'training_data-{0}.npy'.format(starting_value)\n",
    "\n",
    "        keys = key_check()\n",
    "        if 'T' in keys:\n",
    "            if paused:\n",
    "                paused = False\n",
    "                print('Unpaused!')\n",
    "                time.sleep(1)\n",
    "            else:\n",
    "                print('Pausing!')\n",
    "                paused = True\n",
    "                time.sleep(1)\n",
    "\n",
    "if __name__ == \"__main__\":\n",
    "    main(file_name, starting_value, mode, BATCH_SIZE)"
   ]
  },
  {
   "cell_type": "code",
   "execution_count": null,
   "metadata": {},
   "outputs": [],
   "source": []
  }
 ],
 "metadata": {
  "kernelspec": {
   "display_name": "Python 3",
   "language": "python",
   "name": "python3"
  },
  "language_info": {
   "codemirror_mode": {
    "name": "ipython",
    "version": 3
   },
   "file_extension": ".py",
   "mimetype": "text/x-python",
   "name": "python",
   "nbconvert_exporter": "python",
   "pygments_lexer": "ipython3",
   "version": "3.7.9"
  }
 },
 "nbformat": 4,
 "nbformat_minor": 2
}
