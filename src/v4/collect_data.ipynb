{
 "cells": [
  {
   "cell_type": "code",
   "execution_count": null,
   "metadata": {},
   "outputs": [],
   "source": [
    "# Collect Data\n",
    "'''\n",
    "Records screen from the game and saves it to a file\n",
    "- GTA V \n",
    "- Windowed mode\n",
    "- Resolution: 800 x 600\n",
    "- Keep window at top left corner of screen (0,0)\n",
    "'''"
   ]
  },
  {
   "cell_type": "code",
   "execution_count": null,
   "metadata": {},
   "outputs": [],
   "source": [
    "# python 3.7.9\n",
    "import numpy as np\n",
    "print(np.__version__) #1.18.5"
   ]
  },
  {
   "cell_type": "code",
   "execution_count": null,
   "metadata": {},
   "outputs": [],
   "source": []
  },
  {
   "cell_type": "code",
   "execution_count": null,
   "metadata": {},
   "outputs": [],
   "source": [
    "import os\n",
    "import time\n",
    "import cv2\n",
    "import numpy as np\n",
    "from grabscreen import grab_screen\n",
    "from getkeys import key_check\n",
    "\n",
    "key_map = {\n",
    "    'W': [1, 0, 0, 0, 0, 0, 0, 0, 0],\n",
    "    'S': [0, 1, 0, 0, 0, 0, 0, 0, 0],\n",
    "    'A': [0, 0, 1, 0, 0, 0, 0, 0, 0],\n",
    "    'D': [0, 0, 0, 1, 0, 0, 0, 0, 0],\n",
    "    'WA': [0, 0, 0, 0, 1, 0, 0, 0, 0],\n",
    "    'WD': [0, 0, 0, 0, 0, 1, 0, 0, 0],\n",
    "    'SA': [0, 0, 0, 0, 0, 0, 1, 0, 0],\n",
    "    'SD': [0, 0, 0, 0, 0, 0, 0, 1, 0],\n",
    "    'NK': [0, 0, 0, 0, 0, 0, 0, 0, 1],\n",
    "} # key map for the output\n",
    "\n",
    "starting_value = 176\n",
    "BATCH_SIZE = 5000 # ~370Mb/1000 images\n",
    "mode = 'RGB' #'RGB' or 'GRAY'\n",
    "\n",
    "while True:\n",
    "    file_name = 'training_data-{0}.npy'.format(starting_value)\n",
    "    if os.path.isfile(file_name):\n",
    "        print('File exists, moving along', starting_value)\n",
    "        starting_value += 1\n",
    "    else:\n",
    "        print('File does not exist, starting fresh!', starting_value)\n",
    "        break\n",
    "\n",
    "def keys_to_output(keys):\n",
    "    '''\n",
    "    Convert keys to a ...multi-hot... array\n",
    "     0  1  2  3  4   5   6   7    8 \n",
    "    [W, S, A, D, WA, WD, SA, SD, NOKEY ] boolean values.\n",
    "    '''\n",
    "    if len(keys) == 0:\n",
    "        return key_map['NK']\n",
    "    \n",
    "    elif len(keys) == 1:\n",
    "        if keys[0] == 'W':\n",
    "            return key_map['W']\n",
    "        elif keys[0] == 'S':\n",
    "            return key_map['S']\n",
    "        elif keys[0] == 'A':\n",
    "            return key_map['A']\n",
    "        elif keys[0] == 'D':\n",
    "            return key_map['D']\n",
    "        \n",
    "    elif len(keys) == 3:\n",
    "        return key_map[keys[-1]]\n",
    "\n",
    "def main(file_name, starting_value, mode, BATCH_SIZE):\n",
    "    training_data = []\n",
    "    for i in range(10, 0, -1):\n",
    "        print(i + 1)\n",
    "        time.sleep(1)\n",
    "    paused = False\n",
    "    print('STARTING!!!')\n",
    "\n",
    "    while True:\n",
    "        if not paused:\n",
    "            screen = grab_screen(region=(0, 40, 800, 640))\n",
    "            # region defines the area of the screen to capture\n",
    "\n",
    "            screen = cv2.resize(screen, (480, 270))\n",
    "            # resize the screen to 480x270\n",
    "\n",
    "            #mode = cv2.COLOR_BGR2RGB if mode == 'RGB' else cv2.COLOR_BGR2GRAY\n",
    "            mode = cv2.COLOR_BGR2RGB\n",
    "            screen = cv2.cvtColor(screen, mode)\n",
    "            # convert the screen from BGR to color mode\n",
    "\n",
    "            keys = key_check() # list of keys pressed\n",
    "            \n",
    "            output = keys_to_output(keys)\n",
    "            training_data.append([screen, output])\n",
    "            # append the screen and the output to the training data\n",
    "\n",
    "            if len(training_data) % 1000 == 0:\n",
    "                print(len(training_data))\n",
    "                if len(training_data) == BATCH_SIZE:\n",
    "                    np.save(file_name, np.array(training_data))\n",
    "                    print('SAVED')\n",
    "                    training_data = []\n",
    "                    starting_value += 1\n",
    "                    file_name = 'training_data-{0}.npy'.format(starting_value)\n",
    "\n",
    "        keys = key_check()\n",
    "\n",
    "        if 'T' in keys:\n",
    "            if paused:\n",
    "                paused = False\n",
    "                print('Unpaused!')\n",
    "                time.sleep(1)\n",
    "            else:\n",
    "                print('Pausing!')\n",
    "                paused = True\n",
    "                time.sleep(1)\n",
    "\n",
    "if __name__ == \"__main__\":\n",
    "    main(file_name, starting_value, mode, BATCH_SIZE)"
   ]
  },
  {
   "cell_type": "code",
   "execution_count": null,
   "metadata": {},
   "outputs": [],
   "source": []
  },
  {
   "cell_type": "code",
   "execution_count": null,
   "metadata": {},
   "outputs": [],
   "source": []
  },
  {
   "cell_type": "code",
   "execution_count": 1,
   "metadata": {},
   "outputs": [
    {
     "name": "stdout",
     "output_type": "stream",
     "text": [
      "                                                   0  \\\n",
      "0  [[[75, 74, 72], [225, 220, 216], [225, 220, 21...   \n",
      "1  [[[75, 73, 72], [225, 220, 216], [225, 220, 21...   \n",
      "2  [[[75, 73, 72], [225, 220, 216], [225, 220, 21...   \n",
      "3  [[[75, 73, 72], [224, 220, 215], [224, 220, 21...   \n",
      "4  [[[75, 73, 72], [224, 220, 215], [224, 220, 21...   \n",
      "\n",
      "                             1  \n",
      "0  [1, 0, 0, 0, 0, 0, 0, 0, 0]  \n",
      "1  [1, 0, 0, 0, 0, 0, 0, 0, 0]  \n",
      "2  [1, 0, 0, 0, 0, 0, 0, 0, 0]  \n",
      "3  [1, 0, 0, 0, 0, 0, 0, 0, 0]  \n",
      "4  [1, 0, 0, 0, 0, 0, 0, 0, 0]  \n",
      "Counter({'[1, 0, 0, 0, 0, 0, 0, 0, 0]': 3627, '[0, 0, 0, 0, 0, 1, 0, 0, 0]': 416, '[0, 0, 0, 0, 1, 0, 0, 0, 0]': 364, '[0, 0, 0, 0, 0, 0, 0, 0, 1]': 248, '[0, 0, 0, 1, 0, 0, 0, 0, 0]': 106, '[0, 0, 1, 0, 0, 0, 0, 0, 0]': 104, '[0, 1, 0, 0, 0, 0, 0, 0, 0]': 50, '[0, 0, 0, 0, 0, 0, 0, 1, 0]': 47, '[0, 0, 0, 0, 0, 0, 1, 0, 0]': 35, 'None': 3})\n",
      "no matches\n",
      "no matches\n",
      "no matches\n",
      "3627 50 104 106 364 416 35 47 248\n",
      "3837\n",
      "done\n"
     ]
    }
   ],
   "source": [
    "import numpy as np\n",
    "import pandas as pd\n",
    "from collections import Counter\n",
    "from random import shuffle\n",
    "\n",
    "train_data = np.load(r'C:\\Local Disk D\\gtav\\self-driving_GTAV\\mini\\training_data-mini.npy', allow_pickle=True)  \n",
    "\n",
    "df = pd.DataFrame(train_data)\n",
    "print(df.head())\n",
    "print(Counter(df[1].apply(str)))\n",
    "\n",
    "w = []\n",
    "s =[]\n",
    "a = []\n",
    "d = []\n",
    "wa = []\n",
    "wd = []\n",
    "sa = []\n",
    "sd = []\n",
    "nk = []\n",
    "\n",
    "# 'W': [1, 0, 0, 0, 0, 0, 0, 0, 0],\n",
    "# 'S': [0, 1, 0, 0, 0, 0, 0, 0, 0],\n",
    "# 'A': [0, 0, 1, 0, 0, 0, 0, 0, 0],\n",
    "# 'D': [0, 0, 0, 1, 0, 0, 0, 0, 0],\n",
    "# 'WA': [0, 0, 0, 0, 1, 0, 0, 0, 0],\n",
    "# 'WD': [0, 0, 0, 0, 0, 1, 0, 0, 0],\n",
    "# 'SA': [0, 0, 0, 0, 0, 0, 1, 0, 0],\n",
    "# 'SD': [0, 0, 0, 0, 0, 0, 0, 1, 0],\n",
    "# 'NK': [0, 0, 0, 0, 0, 0, 0, 0, 1],\n",
    "# 'default': [0, 0, 0, 0, 0, 0, 0, 0, 0],\n",
    "\n",
    "for data in train_data:\n",
    "    img = data[0]\n",
    "    choice = data[1]\n",
    "\n",
    "    if choice == [1, 0, 0, 0, 0, 0, 0, 0, 0]:\n",
    "        w.append([img, choice])\n",
    "    elif choice == [0, 1, 0, 0, 0, 0, 0, 0, 0]:\n",
    "        s.append([img, choice])\n",
    "    elif choice == [0, 0, 1, 0, 0, 0, 0, 0, 0]:\n",
    "        a.append([img, choice])\n",
    "    elif choice == [0, 0, 0, 1, 0, 0, 0, 0, 0]:\n",
    "        d.append([img, choice])\n",
    "    elif choice == [0, 0, 0, 0, 1, 0, 0, 0, 0]:\n",
    "        wa.append([img, choice])\n",
    "    elif choice == [0, 0, 0, 0, 0, 1, 0, 0, 0]:\n",
    "        wd.append([img, choice])\n",
    "    elif choice == [0, 0, 0, 0, 0, 0, 1, 0, 0]:\n",
    "        sa.append([img, choice])\n",
    "    elif choice == [0, 0, 0, 0, 0, 0, 0, 1, 0]:\n",
    "        sd.append([img, choice])\n",
    "    elif choice == [0, 0, 0, 0, 0, 0, 0, 0, 1]:\n",
    "        nk.append([img, choice])\n",
    "    elif choice == [0, 0, 0, 0, 0, 0, 0, 0, 0]:\n",
    "        pass    \n",
    "    else:\n",
    "        print('no matches')    \n",
    "\n",
    "print(len(w), len(s), len(a), len(d), len(wa), len(wd), len(sa), len(sd), len(nk))\n",
    "\n",
    "final_data = w + a + d\n",
    "shuffle(final_data)\n",
    "print(len(final_data))\n",
    "\n",
    "np.save('training_data_raw.npy', final_data)\n",
    "print('done')\n"
   ]
  },
  {
   "cell_type": "markdown",
   "metadata": {},
   "source": [
    "print(np.__version__)"
   ]
  },
  {
   "cell_type": "code",
   "execution_count": 2,
   "metadata": {},
   "outputs": [
    {
     "name": "stdout",
     "output_type": "stream",
     "text": [
      "1.18.5\n"
     ]
    }
   ],
   "source": [
    "print(np.__version__)"
   ]
  },
  {
   "cell_type": "code",
   "execution_count": null,
   "metadata": {},
   "outputs": [],
   "source": []
  },
  {
   "cell_type": "code",
   "execution_count": null,
   "metadata": {},
   "outputs": [],
   "source": []
  },
  {
   "cell_type": "code",
   "execution_count": null,
   "metadata": {},
   "outputs": [],
   "source": []
  },
  {
   "cell_type": "code",
   "execution_count": null,
   "metadata": {},
   "outputs": [],
   "source": [
    "# balance_data.py\n",
    "\n",
    "import numpy as np\n",
    "import pandas as pd\n",
    "from collections import Counter\n",
    "from random import shuffle\n",
    "\n",
    "train_data = np.load('training_data-1.npy', allow_pickle=True)  \n",
    "i = 13\n",
    "\n",
    "df = pd.DataFrame(train_data)\n",
    "print(Counter(df[1].apply(str)))\n",
    "\n",
    "w = []\n",
    "s =[]\n",
    "a = []\n",
    "d = []\n",
    "wa = []\n",
    "wd = []\n",
    "sa = []\n",
    "sd = []\n",
    "nk = []\n",
    "\n",
    "for data in train_data:\n",
    "    img = data[0]\n",
    "    choice = data[1]\n",
    "\n",
    "    if choice == [1, 0, 0, 0, 0, 0, 0, 0, 0]:\n",
    "        w.append([img, choice])\n",
    "    elif choice == [0, 1, 0, 0, 0, 0, 0, 0, 0]:\n",
    "        s.append([img, choice])\n",
    "    elif choice == [0, 0, 1, 0, 0, 0, 0, 0, 0]:\n",
    "        a.append([img, choice])\n",
    "    elif choice == [0, 0, 0, 1, 0, 0, 0, 0, 0]:\n",
    "        d.append([img, choice])\n",
    "    elif choice == [0, 0, 0, 0, 1, 0, 0, 0, 0]:\n",
    "        wa.append([img, choice])\n",
    "    elif choice == [0, 0, 0, 0, 0, 1, 0, 0, 0]:\n",
    "        wd.append([img, choice])\n",
    "    elif choice == [0, 0, 0, 0, 0, 0, 1, 0, 0]:\n",
    "        sa.append([img, choice])\n",
    "    elif choice == [0, 0, 0, 0, 0, 0, 0, 1, 0]:\n",
    "        sd.append([img, choice])\n",
    "    elif choice == [0, 0, 0, 0, 0, 0, 0, 0, 1]:\n",
    "        nk.append([img, choice])\n",
    "    else:\n",
    "        print('no matches')    \n",
    "\n",
    "print(len(w), len(s), len(a), len(d), len(wa), len(wd), len(sa), len(sd), len(nk))\n",
    "\n",
    "final_data = w + s + a + d + wa + wd + sa + sd + nk\n",
    "shuffle(final_data)\n",
    "np.save(f'training_data_unbalanced_{i}.npy', final_data)\n",
    "\n",
    "# balancing the data\n",
    "# length = min(len(w), len(s), len(a), len(d), len(wa), len(wd), len(sa), len(sd), len(nk))\n",
    "\n",
    "# w = w[:length]\n",
    "# s = s[:length]\n",
    "# a = a[:length]\n",
    "# d = d[:length]\n",
    "# wa = wa[:length]\n",
    "# wd = wd[:length]\n",
    "# sa = sa[:length]\n",
    "# sd = sd[:length]\n",
    "# nk = nk[:length]\n",
    "\n",
    "# final_data = w + s + a + d + wa + wd + sa + sd + nk\n",
    "\n",
    "shuffle(final_data)\n",
    "#np.save('training_data_balanced_v2.npy', final_data)\n"
   ]
  },
  {
   "cell_type": "code",
   "execution_count": null,
   "metadata": {},
   "outputs": [],
   "source": [
    "%pip install tensorflow"
   ]
  },
  {
   "cell_type": "code",
   "execution_count": null,
   "metadata": {},
   "outputs": [],
   "source": [
    "import numpy as np\n",
    "import tensorboard\n",
    "WIDTH = 160\n",
    "HEIGHT = 120\n",
    "LR = 1e-3\n",
    "EPOCHS = 1\n",
    "#MODEL_NAME = 'pygta5-car-fast-{}-{}-{}-epochs-300K-data.model'.format(LR, 'alexnetv2',EPOCHS)\n",
    "MODEL_NAME = 'alexnet_color_30'\n",
    "\n",
    "\n",
    "##def alexnet(width, height, lr, input= 1, output=9, model_name = 'alexnet_color_30'):\n",
    "#model = alexnet(WIDTH, HEIGHT, LR, input=1, output=9, model_name=MODEL_NAME)\n",
    "data = np.load(r'training_data_raw.npy', allow_pickle=True)\n",
    "\n",
    "# X = np.array([i[0] for i in data]).reshape(-1, WIDTH, HEIGHT, 1)\n",
    "# Y = np.array([np.array(i[1]) for i in data])  # Convert Y to a numpy array\n",
    "\n",
    "# print(\"X shape: \", X.shape)\n",
    "# print(\"Y shape: \", Y.shape)\n"
   ]
  },
  {
   "cell_type": "code",
   "execution_count": 4,
   "metadata": {},
   "outputs": [
    {
     "name": "stdout",
     "output_type": "stream",
     "text": [
      "(3837, 2)\n",
      "(2,)\n",
      "(2,)\n"
     ]
    }
   ],
   "source": [
    "print(data.shape) # (300000, 2)\n",
    "print(data[0].shape) # (2,)\n",
    "print(data[1].shape) # (2,)"
   ]
  },
  {
   "cell_type": "code",
   "execution_count": 12,
   "metadata": {},
   "outputs": [
    {
     "name": "stdout",
     "output_type": "stream",
     "text": [
      "(270, 480, 3)\n",
      "(9,)\n"
     ]
    }
   ],
   "source": [
    "print(data[0][0].shape) # (270, 480, 3)\n",
    "print(np.array(data[0][1]).shape) # (9,)"
   ]
  },
  {
   "cell_type": "code",
   "execution_count": 24,
   "metadata": {},
   "outputs": [],
   "source": [
    "X = np.array([i[0] for i in data]).reshape(-1, 270, 480, 3)\n",
    "Y = np.array([np.array(i[1]) for i in data])"
   ]
  },
  {
   "cell_type": "code",
   "execution_count": 29,
   "metadata": {},
   "outputs": [
    {
     "data": {
      "text/plain": [
       "(3837, 270, 480, 3)"
      ]
     },
     "execution_count": 29,
     "metadata": {},
     "output_type": "execute_result"
    }
   ],
   "source": [
    "X.shape\n"
   ]
  },
  {
   "cell_type": "code",
   "execution_count": 31,
   "metadata": {},
   "outputs": [
    {
     "ename": "ValueError",
     "evalue": "cannot reshape array of size 1491825600 into shape (160,120,3)",
     "output_type": "error",
     "traceback": [
      "\u001b[1;31m---------------------------------------------------------------------------\u001b[0m",
      "\u001b[1;31mValueError\u001b[0m                                Traceback (most recent call last)",
      "\u001b[1;32m~\\AppData\\Local\\Temp\\ipykernel_21856\\4160495789.py\u001b[0m in \u001b[0;36m<module>\u001b[1;34m\u001b[0m\n\u001b[0;32m      3\u001b[0m \u001b[1;33m\u001b[0m\u001b[0m\n\u001b[0;32m      4\u001b[0m \u001b[1;31m# Reshape X to (160, 120, 3)\u001b[0m\u001b[1;33m\u001b[0m\u001b[1;33m\u001b[0m\u001b[1;33m\u001b[0m\u001b[0m\n\u001b[1;32m----> 5\u001b[1;33m \u001b[0mX\u001b[0m \u001b[1;33m=\u001b[0m \u001b[0mnp\u001b[0m\u001b[1;33m.\u001b[0m\u001b[0marray\u001b[0m\u001b[1;33m(\u001b[0m\u001b[1;33m[\u001b[0m\u001b[0mi\u001b[0m\u001b[1;33m[\u001b[0m\u001b[1;36m0\u001b[0m\u001b[1;33m]\u001b[0m \u001b[1;32mfor\u001b[0m \u001b[0mi\u001b[0m \u001b[1;32min\u001b[0m \u001b[0mdata\u001b[0m\u001b[1;33m]\u001b[0m\u001b[1;33m)\u001b[0m\u001b[1;33m.\u001b[0m\u001b[0mreshape\u001b[0m\u001b[1;33m(\u001b[0m\u001b[1;33m-\u001b[0m\u001b[1;36m1\u001b[0m\u001b[1;33m,\u001b[0m \u001b[1;36m160\u001b[0m\u001b[1;33m,\u001b[0m \u001b[1;36m120\u001b[0m\u001b[1;33m,\u001b[0m \u001b[1;36m3\u001b[0m\u001b[1;33m)\u001b[0m\u001b[1;33m\u001b[0m\u001b[1;33m\u001b[0m\u001b[0m\n\u001b[0m\u001b[0;32m      6\u001b[0m \u001b[0mY\u001b[0m \u001b[1;33m=\u001b[0m \u001b[0mnp\u001b[0m\u001b[1;33m.\u001b[0m\u001b[0marray\u001b[0m\u001b[1;33m(\u001b[0m\u001b[1;33m[\u001b[0m\u001b[0mnp\u001b[0m\u001b[1;33m.\u001b[0m\u001b[0marray\u001b[0m\u001b[1;33m(\u001b[0m\u001b[0mi\u001b[0m\u001b[1;33m[\u001b[0m\u001b[1;36m1\u001b[0m\u001b[1;33m]\u001b[0m\u001b[1;33m)\u001b[0m \u001b[1;32mfor\u001b[0m \u001b[0mi\u001b[0m \u001b[1;32min\u001b[0m \u001b[0mdata\u001b[0m\u001b[1;33m]\u001b[0m\u001b[1;33m)\u001b[0m\u001b[1;33m\u001b[0m\u001b[1;33m\u001b[0m\u001b[0m\n",
      "\u001b[1;31mValueError\u001b[0m: cannot reshape array of size 1491825600 into shape (160,120,3)"
     ]
    }
   ],
   "source": [
    "# Check the total number of elements in the original data\n",
    "total_elements = np.array([i[0] for i in data]).size\n",
    "\n",
    "# Reshape X to (160, 120, 3)\n",
    "X = np.array([i[0] for i in data]).reshape(-1, 160, 120, 3)\n",
    "Y = np.array([np.array(i[1]) for i in data])"
   ]
  },
  {
   "cell_type": "code",
   "execution_count": 32,
   "metadata": {},
   "outputs": [
    {
     "name": "stdout",
     "output_type": "stream",
     "text": [
      "Total elements in original data: 1491825600\n"
     ]
    }
   ],
   "source": [
    "print(\"Total elements in original data:\", total_elements)"
   ]
  },
  {
   "cell_type": "code",
   "execution_count": null,
   "metadata": {},
   "outputs": [],
   "source": []
  }
 ],
 "metadata": {
  "kernelspec": {
   "display_name": "Python 3",
   "language": "python",
   "name": "python3"
  },
  "language_info": {
   "codemirror_mode": {
    "name": "ipython",
    "version": 3
   },
   "file_extension": ".py",
   "mimetype": "text/x-python",
   "name": "python",
   "nbconvert_exporter": "python",
   "pygments_lexer": "ipython3",
   "version": "3.7.9"
  }
 },
 "nbformat": 4,
 "nbformat_minor": 2
}
